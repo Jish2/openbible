{
 "cells": [
  {
   "cell_type": "markdown",
   "metadata": {},
   "source": [
    "**install deps**"
   ]
  },
  {
   "cell_type": "code",
   "execution_count": 30,
   "metadata": {},
   "outputs": [
    {
     "name": "stdout",
     "output_type": "stream",
     "text": [
      "Requirement already satisfied: python-dotenv in /Users/jgoon/.pyenv/versions/3.12.4/lib/python3.12/site-packages (1.0.1)\n",
      "Note: you may need to restart the kernel to use updated packages.\n"
     ]
    }
   ],
   "source": [
    "%pip install python-dotenv"
   ]
  },
  {
   "cell_type": "markdown",
   "metadata": {},
   "source": [
    "**load env**"
   ]
  },
  {
   "cell_type": "code",
   "execution_count": 31,
   "metadata": {},
   "outputs": [],
   "source": [
    "from dotenv import load_dotenv\n",
    "import os\n",
    "load_dotenv()\n",
    "esv_api_key = os.getenv(\"ESV_API_KEY\")"
   ]
  },
  {
   "cell_type": "code",
   "execution_count": 32,
   "metadata": {},
   "outputs": [],
   "source": [
    "import requests\n",
    "import json\n",
    "\n",
    "def get_passage(book, chapter, folder, html=False):\n",
    "    passage_type = \"html\" if html else \"text\"\n",
    "    url = f\"https://api.esv.org/v3/passage/{passage_type}/\"\n",
    "    headers = { \"Authorization\": f\"Token {esv_api_key}\" }\n",
    "    params = { \"q\": book + str(chapter) }\n",
    "\n",
    "    response = requests.get(url, headers=headers, params=params)\n",
    "\n",
    "    with open(f\"{folder}/{book}-{chapter}.json\", \"w\") as f:\n",
    "        json.dump(response.json(), f)"
   ]
  },
  {
   "cell_type": "code",
   "execution_count": 34,
   "metadata": {},
   "outputs": [],
   "source": [
    "books = [(\"john\", 1)]\n",
    "\n",
    "def get_multiple_passages(books):\n",
    "    for book_name, chapters in books:\n",
    "        for chapter in range(1, chapters + 1):\n",
    "            get_passage(book_name, chapter, \"raw_books\")"
   ]
  },
  {
   "cell_type": "code",
   "execution_count": 60,
   "metadata": {},
   "outputs": [],
   "source": [
    "import re\n",
    "\n",
    "def parse_esv_output(text):\n",
    "    # replace all instances of \\(\\d+\\) with nothing\n",
    "    text = re.sub(r\"\\(\\d+\\)\", \"\", text)\n",
    "\n",
    "    # replace all \\\\n\\\\n([\\w\\s,]+)\\\\n\\\\n with \\n\\n[\\1]\\n\\n\n",
    "    text = re.sub(r\"\\n\\n([\\w\\s,]+)\\n\\n\", r\" [title] \\1\", text)\n",
    "\n",
    "    matches = re.findall(r\"\\[(\\d+|title)\\] (.*?)(?= \\[(\\d+|title)\\])\", text)\n",
    "\n",
    "    return [[chapter, verse.strip()] for chapter, verse, _ in matches]"
   ]
  },
  {
   "cell_type": "code",
   "execution_count": 61,
   "metadata": {},
   "outputs": [],
   "source": [
    "\n",
    "import os\n",
    "import json\n",
    "\n",
    "for book in os.listdir(\"raw_books\"):\n",
    "    if book == \".gitkeep\": continue\n",
    "\n",
    "    with open(f\"raw_books/{book}\") as f:\n",
    "        data = json.load(f)\n",
    "\n",
    "    verses = data[\"passages\"][0]\n",
    "\n",
    "    parsed = parse_esv_output(verses)\n",
    "\n",
    "    book_name = book[:-5]\n",
    "\n",
    "    with open(f\"books/{book_name}.json\", \"w\") as f:\n",
    "        json.dump(parsed, f)\n"
   ]
  },
  {
   "cell_type": "markdown",
   "metadata": {},
   "source": [
    "### schema for parsed books\n",
    "\n",
    "these json files are ordered maps. hopefully this doesn't cause any incorrect ordering in the future.\n",
    "\n",
    "`[\"title\" | int, str][]` \n"
   ]
  },
  {
   "cell_type": "code",
   "execution_count": 36,
   "metadata": {},
   "outputs": [],
   "source": [
    "books = [(\"john\", 21)]\n",
    "\n",
    "def get_multiple_passages(books):\n",
    "    for book_name, chapters in books:\n",
    "        for chapter in range(1, chapters + 1):\n",
    "            get_passage(book_name, chapter, \"raw_html_books\", True)"
   ]
  },
  {
   "cell_type": "code",
   "execution_count": null,
   "metadata": {},
   "outputs": [],
   "source": [
    "# # read from raw_books/john-1.json\n",
    "# with open(\"raw_books/john-1.json\") as f:\n",
    "#     data = json.load(f)\n",
    "\n",
    "# text = data[\"passages\"][0]\n",
    "\n",
    "# # replace all instances of \\(\\d+\\) with nothing\n",
    "# text = re.sub(r\"\\(\\d+\\)\", \"\", text)\n",
    "\n",
    "# # replace all \\\\n\\\\n([\\w\\s,]+)\\\\n\\\\n with \\n\\n[\\1]\\n\\n\n",
    "# text = re.sub(r\"\\n\\n([\\w\\s,]+)\\n\\n\", r\" [title] \\1\", text)\n",
    "\n",
    "# print(json.dumps(text))\n",
    "\n",
    "# matches = re.findall(r\"\\[(\\d+|title)\\] (.*?)(?= \\[(\\d+|title)\\])\", text)\n",
    "\n",
    "# for match in matches:\n",
    "#     print(match)\n"
   ]
  },
  {
   "cell_type": "code",
   "execution_count": null,
   "metadata": {},
   "outputs": [],
   "source": []
  }
 ],
 "metadata": {
  "kernelspec": {
   "display_name": "Python 3",
   "language": "python",
   "name": "python3"
  },
  "language_info": {
   "codemirror_mode": {
    "name": "ipython",
    "version": 3
   },
   "file_extension": ".py",
   "mimetype": "text/x-python",
   "name": "python",
   "nbconvert_exporter": "python",
   "pygments_lexer": "ipython3",
   "version": "3.12.4"
  }
 },
 "nbformat": 4,
 "nbformat_minor": 2
}
