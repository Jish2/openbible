{
 "cells": [
  {
   "cell_type": "markdown",
   "metadata": {},
   "source": [
    "**install deps**"
   ]
  },
  {
   "cell_type": "code",
   "execution_count": 24,
   "metadata": {},
   "outputs": [
    {
     "name": "stdout",
     "output_type": "stream",
     "text": [
      "Requirement already satisfied: python-dotenv in /Users/jgoon/.pyenv/versions/3.12.4/lib/python3.12/site-packages (1.0.1)\n",
      "Note: you may need to restart the kernel to use updated packages.\n"
     ]
    }
   ],
   "source": [
    "%pip install python-dotenv"
   ]
  },
  {
   "cell_type": "markdown",
   "metadata": {},
   "source": [
    "**load env**"
   ]
  },
  {
   "cell_type": "code",
   "execution_count": 25,
   "metadata": {},
   "outputs": [],
   "source": [
    "from dotenv import load_dotenv\n",
    "import os\n",
    "load_dotenv()\n",
    "esv_api_key = os.getenv(\"ESV_API_KEY\")"
   ]
  },
  {
   "cell_type": "code",
   "execution_count": 32,
   "metadata": {},
   "outputs": [],
   "source": [
    "import requests\n",
    "import json\n",
    "\n",
    "def get_passage(book, chapter):\n",
    "    url = \"https://api.esv.org/v3/passage/text/\"\n",
    "    headers = { \"Authorization\": f\"Token {esv_api_key}\" }\n",
    "    params = { \"q\": book + str(chapter) }\n",
    "\n",
    "    response = requests.get(url, headers=headers, params=params)\n",
    "\n",
    "    with open(f\"raw_books/{book}-{chapter}.json\", \"w\") as f:\n",
    "        json.dump(response.json(), f)"
   ]
  },
  {
   "cell_type": "code",
   "execution_count": 33,
   "metadata": {},
   "outputs": [],
   "source": [
    "import re\n",
    "\n",
    "def parse_esv_output(output):\n",
    "\n",
    "    verse_pattern = re.compile(r\"\\[(\\d+)\\] (.*?) (?=\\[\\d+\\]|\\(ESV\\))\")\n",
    "    verses = verse_pattern.findall(output)\n",
    "\n",
    "    return {int(chapter): verse for chapter, verse in verses}"
   ]
  },
  {
   "cell_type": "code",
   "execution_count": 34,
   "metadata": {},
   "outputs": [],
   "source": [
    "books = [(\"john\", 21)]\n",
    "\n",
    "for book_name, chapters in books:\n",
    "    for chapter in range(1, chapters + 1):\n",
    "        get_passage(book_name, chapter)"
   ]
  },
  {
   "cell_type": "code",
   "execution_count": 35,
   "metadata": {},
   "outputs": [],
   "source": [
    "\n",
    "import os\n",
    "\n",
    "for book in os.listdir(\"raw_books\"):\n",
    "    with open(f\"raw_books/{book}\") as f:\n",
    "        data = json.load(f)\n",
    "\n",
    "    verses = data[\"passages\"][0]\n",
    "\n",
    "    parsed = parse_esv_output(verses)\n",
    "\n",
    "    book_name = book[:-5]\n",
    "\n",
    "    with open(f\"books/{book_name}.json\", \"w\") as f:\n",
    "        json.dump(parsed, f)\n"
   ]
  },
  {
   "cell_type": "markdown",
   "metadata": {},
   "source": [
    "**type**\n",
    "\n",
    "```yml\n",
    "john:\n",
    "  1:\n",
    "    - In the beginning was the Word, and the Word was with God, and the Word was God.\n",
    "    - He was in the beginning with God.\n",
    "    - All things were made through him, and without him was not any thing made that was made.\n",
    "    - In him was life, and the life was the light of men.\n",
    "    - The light shines in the darkness, and the darkness has not overcome it.\n",
    "```"
   ]
  }
 ],
 "metadata": {
  "kernelspec": {
   "display_name": "Python 3",
   "language": "python",
   "name": "python3"
  },
  "language_info": {
   "codemirror_mode": {
    "name": "ipython",
    "version": 3
   },
   "file_extension": ".py",
   "mimetype": "text/x-python",
   "name": "python",
   "nbconvert_exporter": "python",
   "pygments_lexer": "ipython3",
   "version": "3.12.4"
  }
 },
 "nbformat": 4,
 "nbformat_minor": 2
}
